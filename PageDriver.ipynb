{
 "cells": [
  {
   "cell_type": "code",
   "execution_count": null,
   "metadata": {},
   "outputs": [],
   "source": [
    "from selenium import webdriver\n",
    "from selenium.webdriver.common.keys import Keys\n",
    "from datetime import datetime\n",
    "import time"
   ]
  },
  {
   "cell_type": "code",
   "execution_count": null,
   "metadata": {},
   "outputs": [],
   "source": [
    "browser = webdriver.Firefox()\n",
    "# browser.get(\"https://www.facebook.com/NASAClimateChange/posts\")\n",
    "# browser.get(\"https://www.facebook.com/ClimateChangeLIES/posts\")\n"
   ]
  },
  {
   "cell_type": "code",
   "execution_count": null,
   "metadata": {},
   "outputs": [],
   "source": [
    "aug2018links=[['https://www.facebook.com/NASAClimateChange/posts/10156492229848076?__xts__%5B0%5D=68.ARDLBeuS1MH_k-vJZSAdDWwv2IpTmRIBrw6Pg9-rW-CkUDMFMrKFiCN7As29nXZxqDeAvE7EADyADjRoNtLRvWED5qVyC8wdVCw_udFeshSN8XeLMPNo0URTuNf9u4BkiyINNOvz0FGWHuBP2pTE8zfXytIJCsculS-LhvJHiSBSAZD7PTEys4U_TH8u5QCkNZNl4PW3qey61rAcODw6yXU93F-g2QF6OS3JfVKqNcKd3FyxVo0kKzAWBzpJjZZcDMYA-VRKZ6D5omjp5ljMExaGxjAYiGP37SaA20r0pGfFsC7q9Ocip337UHePMcmTC1hb5_ud8_l5rsVaUxlX&__tn__=-R', 'August 22, 2018'],\n",
    "['https://www.facebook.com/NASAClimateChange/posts/10156491554933076?__xts__%5B0%5D=68.ARCcLZxyPH-hlPZaHiDXwGy6Zo-6yK2lCSZIFA76Tn6iHLVttWXwB3STJHuh8CXpAJXp7XoNOo0zBqZ7lhHitvLHtx0TYJJRwpeZqBtnFnDPOFsP5LwovmjtpoMbGub818a_008ci7zab4DOfzHtdBafOLejXTzihA1NSYluuE8berqLFjfrn7g7wjpEbGzTAb3oWemoAN-w1ddWnv8ST7HY6nQ4CTBkrEiy_yuN3d_iruvYsjI8IkG3zd6tVe9Q4rNIq8PLLYsVpyQfNWqz74AkH-NoyspcR4caVoi6lodNspxbVecQtz0rkznPm88uxSxmtGt5PH5YT2kv-D29RWP5CHh5eC-5NjxHSQf9zfnyUOnP4CggU8DvrWmgIh2sxE-ISWXZ0QgC2zaYfnKvg-KZMppwZ7Cf_nDZ8n2B9w2uGI2KrgXni0XZ0Xt11HyPk45INN5MZ6nSyCemQ1i4sGEpP3aajgmWNbP2M-BYcsZSxuF6vywlAstR8yY&__tn__=-R', 'August 22, 2018'],\n",
    "['https://www.facebook.com/ICEatNASA/videos/1904810493146066/?__xts__%5B0%5D=68.ARCcLZxyPH-hlPZaHiDXwGy6Zo-6yK2lCSZIFA76Tn6iHLVttWXwB3STJHuh8CXpAJXp7XoNOo0zBqZ7lhHitvLHtx0TYJJRwpeZqBtnFnDPOFsP5LwovmjtpoMbGub818a_008ci7zab4DOfzHtdBafOLejXTzihA1NSYluuE8berqLFjfrn7g7wjpEbGzTAb3oWemoAN-w1ddWnv8ST7HY6nQ4CTBkrEiy_yuN3d_iruvYsjI8IkG3zd6tVe9Q4rNIq8PLLYsVpyQfNWqz74AkH-NoyspcR4caVoi6lodNspxbVecQtz0rkznPm88uxSxmtGt5PH5YT2kv-D29RWP5CHh5eC-5NjxHSQf9zfnyUOnP4CggU8DvrWmgIh2sxE-ISWXZ0QgC2zaYfnKvg-KZMppwZ7Cf_nDZ8n2B9w2uGI2KrgXni0XZ0Xt11HyPk45INN5MZ6nSyCemQ1i4sGEpP3aajgmWNbP2M-BYcsZSxuF6vywlAstR8yY&__tn__=H-R', 'August 22, 2018 at 8:30 AM'],\n",
    "['https://www.facebook.com/NASAClimateChange/posts/10156491433603076?__xts__%5B0%5D=68.ARAzJ5fgnNtazOIrINXyOsNngT4hIb_Kj67YZGcTtgyIXZiXva9ExFTB-rV5WhwOojXRaa40BGkQbXK08Eeevh0oKIjTI6BMXIN4lFlwA_NILcaVt0eb1OroRJix2Cd-YB7besA1uuZ-WOaRLNbTx7UE6onUK4ZwHAI8rKfByQfogoib35-AHELjJwJXc3kyNi0esNke3DxRS3Tt9VrYDq5CeVGuqQCg_0GM5QiivjJ6aylO6wM6bzZh8U52iMaXFJNx4K8B8q1GtPGkv7uecVZ6rADbbFmWV_isPB4d2U6FDUVIQ_oShaaVGwGIEs0v8-6wShc9623BlieEcblS&__tn__=-R', 'August 22, 2018'],\n",
    "['https://www.facebook.com/NASAClimateChange/posts/10156489940168076?__xts__%5B0%5D=68.ARArw4BYHD7DqsaSXkOboxeIvtvCOrM-vUXtsIBBQB8Wbxk967pOAgqajkfGEXh0x2-nrPsn65Tk3yLbzu9g7PmptGGswuE97-hk9Ei-dDZQK6O2VaTum9uaJtOX3gBKoH91pjyF-w5NU60bZH2ZBC7eKk1t8ICmoSPsMm4pT4ddlvr-DTxuk6e9_Ap7bm6HOHz7mjfQpeeXnBu0kMFDJKbzifASY2-6I3rxdzkxINjc3ythEalnW8PQSZkn2uDy17q-ZpAitR8_AJlpd1qviZHh8h6cou8rh69f5Yow3TOCo-gjmensAKKV4RYo8I7KuHbFvaX3rgatdxO0Af1o&__tn__=-R', 'August 21, 2018'],\n",
    "['https://www.facebook.com/NASAClimateChange/posts/10156489187888076?__xts__%5B0%5D=68.ARC7N3P0529l9dRTdaLddfDKDUD1thFwiE9u3UpXrGIuuI9AL7-ecOE5iyudEY3rQFfu_P6nUDgT2Cv-GTbXAQZsMRT4lEC2trhlejIRRfHubIfJjge8JdrW5R3Uxg3kChOi9Cuh4128PRZcpBcA0ZqloTW5Po9UFufTlpa5Z5G8W8fFKjxZKZNzdHd1btvTnI6doTqdyxQAY_1YdqSc7bs6dM3guwiKAc8blHoM1YGZ5g-CziwOotXmKUYLvjQa8RqR5BcTnp1oQVqPPR64iAYeVViVoyAjBof9KMPfMVJ1qrcq-_bdfeMnm6BufJN7A-whDUn3bt2kCsxk5i9r&__tn__=-R', 'August 21, 2018'],\n",
    "['https://www.facebook.com/NASAClimateChange/videos/1995801403811437/?__xts__%5B0%5D=68.ARBHciTm7QcCKWePxlYIffgH4zOSw3yMq8PV-TZ5fmzEV2yfh7K2MffdZDnkGiDJahOiSKZGvyhFFWOELVrbLtN5v5YZaEAatAdTWwVGNEqXVRhYL6amBpswOFQBAaFU9LYPdeQH5Mm8G51fQ3bIHFM_lcQ9y1-N7S4SShgKqeiHciSfwHmEWfJ-_EgH30_haUvoZUekRJGFCf7ERZnTDO1kR9Lfv9SBRZsFUuX4rMoFefbj6TBkfPri-mLVyRR0P5LB4KwrOmdxNdKrYvJrE6kfu8tRoZbERlaM4s1Q54TPrkWJBJnyw-PLxRbVhdNxPUE6WcPpXFv2CIFumXppmKoWw3xbDw&__tn__=-R', 'August 20, 2018'],\n",
    "['https://www.facebook.com/NASAClimateChange/videos/1777823529003642/?__xts__%5B0%5D=68.ARB0q3UWRzQKUj5JctaQ0gx5K5R0LMNUjchubJvKH3wAoGecH4donytBI5hAbDRS85ysfcSQC814FfVzCOuXjG8Wktu8a_6Hg3g5J5cjCk68ZV8C9u8oeD9MLd7-z5H7r12XdmgUJ99Tk4elhuixqXwiXjC9B4mZtciuXnN3LVxlXlfi1hb55L2AkKmmXaR-ta2rIDIG9YtdYE5jFuQKZQS8YHtf1jhoF_vxtbuUQkNoeW7oEBwvkeMz1-11BMVDHM1P1hc5JiooGdTrwsS614byQpa9T5r0mmxxGv74toajSDDYJTg9D5dumQOfaIY_jiUlr0jvvQTH_OtCwXFsQIogbUp-KA&__tn__=-R', 'August 20, 2018'],\n",
    "['https://www.facebook.com/NASAClimateChange/posts/10156487265773076?__xts__%5B0%5D=68.ARDgsimELnbL7UykDB66E-Ur6gLpw6u2ebtDC_-JVQuON0aX3GyHGRhZZaqIcRZzbX2OppUGW-W5lHXXCvB8jXcb9aC5OMG97lxsoef0HWfjzmRUDpq56lS2z1Ru40YOzDjNWaF91Qgb6wnCOP3jXZS1Bsq_o6kMpwP6GgpbALwMIzBwGSe_pSR7boE3HnEZMi-AeX-Fd_0w8hLzpfrpAjR0hnkSA1ySY_06VgHrMOtF9_vqqUuuDJtNBJwLSaENJEEc0qGbFj1RQGLy-xG-jQSpyfXc88Wus7YoNZVrgduhTBMuhwjBrPrSqLwOQcbSCpCTYh2CN77-RUTJgTYq&__tn__=-R', 'August 20, 2018'],\n",
    "['https://www.facebook.com/NASAClimateChange/posts/10156487208448076?__xts__%5B0%5D=68.ARByPxtrzOV70V2OitgcAS878UzduMFW9WY3uyfh5fffBBu0Bsz-E6w22rmVkKieTVUiEim0nKWedVoqmtMYzq83crRdFdcb-wp2g0JGVBg_itrhsK_0s5i1VBGqbg3vDf3FNX7W_MrrGgRYAiDf-90tQg6scopt7LoWbmebiQFZSzU2f2P_EAlwBsDat0dpc_9lU0iCKX2JEfXhFW6kD3_-1HgZgE_yW0KKjPZB2E86N8VC8_NanXQu6gEwB92A9Y3VM7Gtf2CdeQ0940mPXkAVPGPZIxO3hyGLO0DPmvp-equTBB7Bhz_HwNKB_o7QZe7oDaKEG90q_n4rcVDC&__tn__=-R', 'August 20, 2018'],]\n",
    "\n",
    "#completed 0, 1, 2(don't crawl), 3, 4, 5, 6, 7, 8, 9\n",
    "browser.get(aug2018links[0][0]) # in progress"
   ]
  },
  {
   "cell_type": "code",
   "execution_count": null,
   "metadata": {},
   "outputs": [],
   "source": [
    "oct2018links = [['https://www.facebook.com/NASAClimateChange/posts/10156605765613076?__xts__%5B0%5D=68.ARBSzq6PwOit2Juy3gUkTEcQz1m0BMewJdL-iHXkEvv07Nzk8zdbBkfcMiLlLIDrs2Q8PclsJYNlcUNjFLJqT5q7oQstJ1FsHJDgyexaJEXa3VCGIT51UiJTxFgkDQtuKJJldK7E1D1ZRNVGeFGx8mgjhE0LgtmXxiVsdprEjHp7MuyKbyBVVbd4DMfJwxtUpdOh2kRO-P_desqzoanaOB8DxL3PdGoUzZPuAmPb_rVmNTLeLIL-aku0sVYqxUsuYwcqJRcbHMC-3VBkaklrzoQQvDpTgqVvyZLie93HGMDxUOtD2KcQIIYlJIvwSrqTlLHGN5YhrDdigQzN-qXj&__tn__=-R', 'October 11, 2018'],\n",
    "['https://www.facebook.com/NASAClimateChange/posts/10156603364818076?__xts__%5B0%5D=68.ARACEXVCBMOyHNKgzlaUMo9Pc8S0-usJ7BMdzwfvjBqkLGAENDsgpSWF1xEC8dmVgaNe_NwsTL-K6pKQassVrbbvf4FPFO-mIeK0SkAG3R1NX18VcLzAQP39ztnjbhK9yjc8hZisPsVB_o1sX7HwwforMxHuZHEcCRtUxdc4-00H7dP5x8ALOQT6A-7k049YhwCZJ2xQnRWAFMh7LmSumG-HtpinWmfsAYkjC7jt_wFbZ43nLzcqNvIOma8GcDJn5SUp8ipsiIKZG3qX9UqmwBZkvI-bd6hqyGkuW8wS5t2yOpj1Z14B6Pjz2vHi6N-LnKOh1wa4Pz6atgq0lRkP&__tn__=-R', 'October 10, 2018'],\n",
    "['https://www.facebook.com/NASAClimateChange/posts/10156603278008076?__xts__%5B0%5D=68.ARCRabU25wNnO3VJfa9B7GoKmlIxW6Z4S9t6K71ZZcT-52uVSGIwPkmDwrc1D3PImiFpZH0zdD8jii328RVWA_KwUuEkg2wdw9wzNLbk5MPIHwAoGVdNK1r9HFB8ZqFsoDJYaxF54sapNc7bykF3ttLdC2AILbM1JVYNolbStf1Ssz-gtG5ugCB3DQ8hn4bm85Op1_Mqrt-ZMwwxfcyip5YO0ua3rHda2PxTE54qoDuhKTDeMbU6ztkKn4uBDkzedGNcUl8eL4ibpmlHbffJPftEdb7NI66XQP5XJWzARnRjrvggGsC_aCFQYk2nuY5BZu4W2rNYB44X1Mqig-5QkMlD9fkgeLGCMAo9lrsBr1wYkB0YHN2CI1zffkgBzf7OEWvswkzRSsSOsGRCBsTbXkNbu1lYJgpEmmEsGArZbhKhI-DiZCWWetj_JSTSUK5JwnawdaElZI7L82uEvk8r63moqsNC1kIq6WMpXyQttStfvofreKXpjseqpqmICnL25QMIzo1rBIfQSrrH&__tn__=-R', 'October 10, 2018'],\n",
    "['https://www.facebook.com/nasa.globeobserver/videos/1023046601232270/?__xts__%5B0%5D=68.ARCRabU25wNnO3VJfa9B7GoKmlIxW6Z4S9t6K71ZZcT-52uVSGIwPkmDwrc1D3PImiFpZH0zdD8jii328RVWA_KwUuEkg2wdw9wzNLbk5MPIHwAoGVdNK1r9HFB8ZqFsoDJYaxF54sapNc7bykF3ttLdC2AILbM1JVYNolbStf1Ssz-gtG5ugCB3DQ8hn4bm85Op1_Mqrt-ZMwwxfcyip5YO0ua3rHda2PxTE54qoDuhKTDeMbU6ztkKn4uBDkzedGNcUl8eL4ibpmlHbffJPftEdb7NI66XQP5XJWzARnRjrvggGsC_aCFQYk2nuY5BZu4W2rNYB44X1Mqig-5QkMlD9fkgeLGCMAo9lrsBr1wYkB0YHN2CI1zffkgBzf7OEWvswkzRSsSOsGRCBsTbXkNbu1lYJgpEmmEsGArZbhKhI-DiZCWWetj_JSTSUK5JwnawdaElZI7L82uEvk8r63moqsNC1kIq6WMpXyQttStfvofreKXpjseqpqmICnL25QMIzo1rBIfQSrrH&__tn__=H-R', 'October 10, 2018'],\n",
    "['https://www.facebook.com/NASAClimateChange/posts/10156602907398076?__xts__%5B0%5D=68.ARDvim7J6Ff5WPBIEIt_V0P1T_wzO5bRP56kaHUiz06GcGVxDu536F56wcguXtYNqj4T5hrobHjoUnGIUx0LuypfTi8ESWmcFjDHO4FJHqSjuaMhD-otMXcO9C4K5p78D2D9dZshumFJEWooV7LeT-HLa6LsGcvlOFSgpZN40MR1jiC2xDUX32yTR3jrzIOovP8_TINsUaCDRNjTJPDwi5D_MoeockCRLB6EnKriLaf6XI7GPh2KD2_92YbchD8-Vl5ZVkwCUhlrw5Eid1Qf4R--4Qcekj_bpBihZqb96RjPvUbFEQ0s_Z7ad1I0hTuXmOvN1u9HNXJ6xa3m-PKL&__tn__=-R', 'October 10, 2018'],\n",
    "['https://www.facebook.com/NASAClimateChange/posts/10156590721768076?__xts__%5B0%5D=68.ARB_H1fIsm0iG15xRRj5CRQ1wKQ4ZZZmLO9bZLHfbXBA-375XIhX4fKOpRyHspP7JVPfc3sOl6xRfjxXwZl0WZrDYt5jeQqiCt8YONL44ef6YrOWeuKLQHulUUq5_Gv-i7ehGN7T5TgPCG5h-WEygXZ_pDFh3E3LB15mvQ6ahNZnPz8oUiBKVeSM-6Zxr614Lov0Km5Td1sA64tjCRol58121wP8dMeQNfINgRdKw_Ej4pHO85a1jU-aY7XpWQZJKwO75SnQvZCcrjtrSLCOFZlNUBBVwOlZjnWlkj5gKl2I2yqr8q8gV32PlUOTsxgEdMXPbml53UdENSyQex-J&__tn__=-R', 'October 5, 2018'],\n",
    "['https://www.facebook.com/NASAClimateChange/posts/10156590682428076?__xts__%5B0%5D=68.ARCl2QV0PYf1HCXJH-d-EKqPUBEZPyJwVaRwJrIW2PHxd3z_fuj0FDK5jLajkMX4AhYprTQW2Mx2LmAGqoktQlj85iIYPHAgseYLLZDQ1hcqeDPJNR36P2QSZEaRw8ZmkD3o6G1MiUs7BBzWvyHJDPEKPjAMus2S5wAAcMrzUdixS2NFhoJJ2PJpWQKBui_S5JBzyOaHsmckkWczlf-XKScMgF4gZ0BnMBUHzaCAa3SzfvgJ9E3qMKxa9eUizo47y8w6C0RYcvYhkTeKEHGjEe7UIsZQTUDYS_uPw1jh21627HcyuX9ej2xeTlFUhnhyZLK1lIf2fnXzKc1bVTKOFTY14HBRiGBnDB02DcBNQYU7XWzX5RFBxnwrFTbHwoqXwEekLR1lrJ3XrULL2O83wgbPMt_8mGDD5z5WFPPdsYnT1XgyV5W_bbfIDhitO7RsZN2Yy1oEjfaBEmrL_hxT1wrJ_4Xn4jdnoIJ4t94zwpFKdg&__tn__=-R', 'October 5, 2018'],]\n",
    "\n",
    "#completed \n",
    "browser.get(oct2018links[0][0]) # in progress"
   ]
  },
  {
   "cell_type": "code",
   "execution_count": null,
   "metadata": {},
   "outputs": [],
   "source": [
    "browser.close()"
   ]
  },
  {
   "cell_type": "code",
   "execution_count": null,
   "metadata": {},
   "outputs": [],
   "source": []
  },
  {
   "cell_type": "code",
   "execution_count": null,
   "metadata": {},
   "outputs": [],
   "source": []
  },
  {
   "cell_type": "code",
   "execution_count": null,
   "metadata": {
    "scrolled": true
   },
   "outputs": [],
   "source": [
    "#Use this to scroll down the Posts pages For posts this year\n",
    "from datetime import datetime\n",
    "target_date = datetime.strptime('January 2', '%B %d')\n",
    "post_not_found = True\n",
    "bailout = 40\n",
    "\n",
    "while(post_not_found and bailout>0):\n",
    "    bailout -= 1\n",
    "    # get list of all span elements of class timestampContent\n",
    "    post_date_elements = browser.find_elements_by_xpath(\"//span[@class='timestampContent']\")\n",
    "\n",
    "    # get last date item's month and check if it is greater our target\n",
    "    if post_date_elements:\n",
    "        last_date = post_date_elements[-1].text\n",
    "        # at %I:%M %p\n",
    "        if datetime.strptime(last_date, \"%B %d\") > target_date:\n",
    "            print(last_date + \" not yet\")\n",
    "            \n",
    "        # then scroll to last element in the page (if list is not empty)\n",
    "            #browser.execute_script(\"arguments[0].scrollIntoView();\", post_date_elements[-1])\n",
    "            browser.execute_script(\"window.scrollTo(0, document.body.scrollHeight-10)\")\n",
    "            time.sleep(3)\n",
    "        else:\n",
    "            print('post before date found')\n",
    "            post_not_found = False\n",
    "            bailout = 0\n",
    "if bail<=0:\n",
    "    print(\"I'm done.\")\n",
    "else:\n",
    "    print(\"I bailed.\")"
   ]
  },
  {
   "cell_type": "code",
   "execution_count": null,
   "metadata": {
    "scrolled": true
   },
   "outputs": [],
   "source": [
    "# Use this to scroll down the Posts pages For posts before this year\n",
    "from datetime import datetime\n",
    "target_date = datetime.strptime('May 27, 2017', '%B %d, %Y')\n",
    "post_not_found = True\n",
    "bailout = 50\n",
    "\n",
    "while(post_not_found and bailout>0):\n",
    "    bailout -= 1\n",
    "    # get list of all span elements of class timestampContent\n",
    "    post_date_elements = browser.find_elements_by_xpath(\"//span[@class='timestampContent']\")\n",
    "\n",
    "    # get last date item's month and check if it is greater our target\n",
    "    if post_date_elements:\n",
    "        last_date = post_date_elements[-1].text\n",
    "        if datetime.strptime(last_date, \"%B %d, %Y\") > target_date:\n",
    "            print(last_date + \" not yet -\")\n",
    "                \n",
    "        # then scroll to last element in the page (if list is not empty)\n",
    "            #browser.execute_script(\"arguments[0].scrollIntoView();\", post_date_elements[-1])\n",
    "            browser.execute_script(\"window.scrollTo(0, document.body.scrollHeight-10)\")\n",
    "            time.sleep(4)\n",
    "        else:\n",
    "            print('post before date found')\n",
    "            post_not_found = False\n",
    "\n",
    "if bail<=0:\n",
    "    print(\"I'm done.\")\n",
    "else:\n",
    "    print(\"I bailed.\")"
   ]
  },
  {
   "cell_type": "code",
   "execution_count": null,
   "metadata": {},
   "outputs": [],
   "source": [
    "# Click the date link\n",
    "# link = browser.find_elements_by_xpath(\"//span[@class='timestampContent']\")\n",
    "# print(link[0].text)\n",
    "# link[0].click()"
   ]
  },
  {
   "cell_type": "code",
   "execution_count": null,
   "metadata": {},
   "outputs": [],
   "source": [
    "# view comments<- probably not good to use\n",
    "comments = browser.find_elements_by_xpath(\"//a[@data-testid='UFI2CommentsCount/root']\")\n",
    "comments[0].click()\n",
    "# for comment in comments:\n",
    "#     print(comment.text)\n",
    "#     comment.click()"
   ]
  },
  {
   "cell_type": "code",
   "execution_count": null,
   "metadata": {
    "scrolled": true
   },
   "outputs": [],
   "source": [
    "# expand bottom comments <- not tenable?\n",
    "more_comments = browser.find_elements_by_xpath(\"//div[@id='stream_pagelet']//div[@class='_3ob9']\")\n",
    "more_comments[0].text"
   ]
  },
  {
   "cell_type": "code",
   "execution_count": null,
   "metadata": {},
   "outputs": [],
   "source": [
    "# Use this to expand all replies in an indiviudal post page\n",
    "bail = 20\n",
    "replies = browser.find_elements_by_xpath(\"//a[@data-testid='UFI2CommentsPagerRenderer/pager_depth_1']\")\n",
    "while replies and bail>0:\n",
    "    for reply in replies:\n",
    "        print(reply.text)\n",
    "        browser.execute_script(\"arguments[0].scrollIntoView();\", reply)\n",
    "        reply.click()\n",
    "        time.sleep(1)\n",
    "    replies = browser.find_elements_by_xpath(\"//a[@data-testid='UFI2CommentsPagerRenderer/pager_depth_1']\")\n",
    "    bail -= 1\n",
    "\n",
    "if bail>0:\n",
    "    print(\"I'm done.\")\n",
    "else:\n",
    "    print(\"I bailed.\")"
   ]
  },
  {
   "cell_type": "code",
   "execution_count": null,
   "metadata": {},
   "outputs": [],
   "source": [
    "# Use this to expand partially shown comments by clicking on See more\n",
    "seemores = browser.find_elements_by_xpath(\"//a[@class='_5v47 fss']\")\n",
    "for seemore in seemores:\n",
    "    print(seemore.text)\n",
    "    browser.execute_script(\"arguments[0].scrollIntoView();\", seemore)\n",
    "    seemore.click()\n",
    "    time.sleep(.5)\n",
    "print(\"I'm done\")"
   ]
  },
  {
   "cell_type": "code",
   "execution_count": null,
   "metadata": {},
   "outputs": [],
   "source": []
  },
  {
   "cell_type": "code",
   "execution_count": null,
   "metadata": {},
   "outputs": [],
   "source": [
    "# close the window / driver\n",
    "browser.close()"
   ]
  },
  {
   "cell_type": "code",
   "execution_count": null,
   "metadata": {},
   "outputs": [],
   "source": []
  },
  {
   "cell_type": "code",
   "execution_count": null,
   "metadata": {},
   "outputs": [],
   "source": []
  },
  {
   "cell_type": "code",
   "execution_count": null,
   "metadata": {},
   "outputs": [],
   "source": [
    "import bs4 as bs\n",
    "import os\n",
    "\n",
    "# open the html code, find <a class=_5pcq> which is post's direct link (you'd click on rhe post date)\n",
    "with open(os.getcwd() + \"\\\\data\\\\Posts_page_down_to_aug_16_2018.html\", encoding=\"utf8\") as html_code:\n",
    "    soup = bs.BeautifulSoup(html_code, 'html.parser')\n",
    "    texts = soup.findAll('a', class_='_5pcq')\n",
    "    print(texts[0].string) # actual contents of tag"
   ]
  },
  {
   "cell_type": "code",
   "execution_count": null,
   "metadata": {
    "scrolled": true
   },
   "outputs": [],
   "source": [
    "import bs4 as bs\n",
    "import os\n",
    "\n",
    "# open the html code, find <a class=_5pcq> which is post's direct link (you'd click on rhe post date)\n",
    "with open(os.getcwd() + \"\\\\data\\\\Lies_posts_page_down_to_may_27_2017.html\", encoding=\"utf8\") as html_code:\n",
    "    soup = bs.BeautifulSoup(html_code, 'html.parser')\n",
    "    texts = soup.findAll('a', class_='_5pcq')\n",
    "    print(texts[0]['href']) # href of tag"
   ]
  },
  {
   "cell_type": "code",
   "execution_count": null,
   "metadata": {
    "scrolled": true
   },
   "outputs": [],
   "source": [
    "# use this to find and print all the links to individual posts' pages so that \n",
    "import bs4 as bs\n",
    "import os\n",
    "\n",
    "# open the html code, find <a class=_5pcq> which is post's direct link which is what you'd click to see individual post\n",
    "with open(os.getcwd() + \"\\\\data\\\\Lies_posts_page_down_to_may_27_2017.html\", encoding=\"utf8\") as html_code:\n",
    "    soup = bs.BeautifulSoup(html_code, 'html.parser')\n",
    "    post_links = soup.findAll('a', class_='_5pcq')\n",
    "    for post_link in post_links:\n",
    "        print(f\"{post_link['href']} {post_link.string}\") # actual contents of tag"
   ]
  },
  {
   "cell_type": "code",
   "execution_count": null,
   "metadata": {},
   "outputs": [],
   "source": [
    "import bs4 as bs\n",
    "import os\n",
    "# post consists of the original entire post (with user name) <div class='_1dwg _1w_m _q7o'\n",
    "    # the name of the poster (eg the page) <div class='clearfix y_c3pyo2ta3'>\n",
    "    # actual post contents is in <div class = '_5pbx userContent _3576' dataset-id='post_message'>\n",
    "# then comments to original post, which is a <div class='_7a8-' datatest-id='UFI2CommentsList/root_depth_0'> that contains <ul class='_7a9a'> with <li> items\n",
    "    # under each <li> is a close <div data-testid='UFI2Comment/root_depth_0'> and down the tree is <div class='_72vr'> that is basically the mainstream comment\n",
    "    # the commentor's name is <a class='_6qw4'>\n",
    "        # under the <li> are possible replies, which have a <div class='UFI2CommentsList/root_depth_1'> holds entire replies\n",
    "        # under that class is a <ul> and <li> the entirety of the reply with media is <div data-testid='UFI2Comment/root_depth_1'> \n",
    "            # and the media-less comment is in <div data-testid='UFI2Comment/body'>\n",
    "            # that comment's user name string is in the <a class='_6qw4'> and it's post contents <span class='_3l3x _1n4g'\n",
    "with open(os.getcwd() + \"\\\\data\\\\NASA_september_20_2019.html\", encoding=\"utf8\") as html_code:\n",
    "    soup = bs.BeautifulSoup(html_code, 'html.parser')\n",
    "\n",
    "    # get main post's date\n",
    "    main_post_date = soup.find('span', class_='timestampContent').string\n",
    "    print(main_post_date)\n",
    "    \n",
    "    # getting 0th item because there is only one main post\n",
    "    main_post_tag = soup.findAll('div', class_=['_1dwg _1w_m _q7o'])[0]\n",
    "    \n",
    "    main_page_account = next(main_post_tag.findAll('span', class_=['fwn fcg'])[0].stripped_strings)\n",
    "    print(main_page_account)\n",
    "    \n",
    "    # get contents\n",
    "    main_post_content = main_post_tag.findAll('div', class_=['_5pbx userContent _3576'])[0].stripped_strings\n",
    "    content = '' # start with a blank string\n",
    "    for part in main_post_content:\n",
    "        content += part\n",
    "\n",
    "    print(content.replace('\\n','')) # remove newline characters\n",
    "    "
   ]
  },
  {
   "cell_type": "code",
   "execution_count": null,
   "metadata": {},
   "outputs": [],
   "source": [
    "# get all main comments\n",
    "main_post_comment_tags = soup.findAll('div', {'data-testid':'UFI2CommentsList/root_depth_0'})[0]\n",
    "\n",
    "for comment in main_post_comment_tags.findAll('div', {'data-testid':'UFI2Comment/root_depth_0'}):\n",
    "    who = comment.find(['a','span'], class_='_6qw4').text\n",
    "    what = comment.findAll('span', class_='_3l3x')[0].text.replace('\\n','') if comment.findAll('span', class_='_3l3x') else '(posted media only)'\n",
    "    when = comment.find('abbr', class_='livetimestamp')['data-tooltip-content']\n",
    "    print(f\"{who}, {what}, {when}\")"
   ]
  },
  {
   "cell_type": "code",
   "execution_count": null,
   "metadata": {},
   "outputs": [],
   "source": [
    "# Get comments to original post this is a single test\n",
    "# remember to get 0th index\n",
    "# main_post_comment_tags = soup.findAll('div', {'data-testid':'UFI2CommentsList/root_depth_0'})[0]\n",
    "# main_post_comment_ul = main_post_comment_tags.findAll('ul', class_='_7a9a')[0] #0th for testing, iterate for prod\n",
    "# commentor = main_post_comment_ul.find('a', class_='_6qw4').text\n",
    "# comment = main_post_comment_ul.findAll('span', class_='_3l3x')[0].text\n",
    "# comment_date = main_post_comment_ul.find('abbr', class_='livetimestamp')['data-tooltip-content']\n",
    "# print(f\"{commentor} {comment} {comment_date}\")\n"
   ]
  },
  {
   "cell_type": "code",
   "execution_count": null,
   "metadata": {},
   "outputs": [],
   "source": [
    "# for comment in main_post_comment_tags.findAll('div', {'data-testid':'UFI2Comment/root_depth_0'}):\n",
    "#     soup.findAll('div', {'data-testid':'UFI2CommentsList/root_depth_0'})[0]\n",
    "# main_post_comment_tags.findAll('div', {'data-testid':'UFI2Comment/root_depth_0'})\n",
    "main_post_comment_tags.findAll('div', {'data-testid':'UFI2Comment/root_depth_0'})"
   ]
  },
  {
   "cell_type": "code",
   "execution_count": null,
   "metadata": {},
   "outputs": [],
   "source": [
    "# each element in lis is a list item of a comment to the main post\n",
    "lis = main_post_comment_tags.findAll('ul', class_='_7a9a')[0].findAll('li')\n",
    "print(len(lis)) # number of main comments\n",
    "for li in lis:\n",
    "    comment = li.find('div', {'data-testid':'UFI2Comment/root_depth_0'})\n",
    "    if comment:\n",
    "        who = comment.find(['a','span'], class_='_6qw4').text\n",
    "        what = comment.findAll('span', class_='_3l3x')[0].text.replace('\\n','') if comment.findAll('span', class_='_3l3x') else '(posted media only)'\n",
    "        when = comment.find('abbr', class_='livetimestamp')['data-tooltip-content']\n",
    "        print(f\"{who}, {what}, {when}\")\n",
    "        replies = li.findAll('div', {'data-testid':'UFI2Comment/root_depth_1'})\n",
    "        for reply in replies:\n",
    "            who = reply.find(['a','span'], class_='_6qw4').text\n",
    "            what = reply.findAll('span', class_='_3l3x')[0].text.replace('\\n','') if reply.findAll('span', class_='_3l3x') else '(posted media only)'\n",
    "            when = reply.find('abbr', class_='livetimestamp')['data-tooltip-content']\n",
    "            print(f\"---{who}, {what}, {when}\")\n",
    "\n"
   ]
  },
  {
   "cell_type": "code",
   "execution_count": null,
   "metadata": {},
   "outputs": [],
   "source": [
    "main_post_comment_tags.findAll('ul', class_='_7a9a')[0].findAll('li')"
   ]
  },
  {
   "cell_type": "code",
   "execution_count": null,
   "metadata": {},
   "outputs": [],
   "source": []
  }
 ],
 "metadata": {
  "kernelspec": {
   "display_name": "Python 3",
   "language": "python",
   "name": "python3"
  },
  "language_info": {
   "codemirror_mode": {
    "name": "ipython",
    "version": 3
   },
   "file_extension": ".py",
   "mimetype": "text/x-python",
   "name": "python",
   "nbconvert_exporter": "python",
   "pygments_lexer": "ipython3",
   "version": "3.6.8"
  }
 },
 "nbformat": 4,
 "nbformat_minor": 2
}
